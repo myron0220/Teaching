{
 "cells": [
  {
   "cell_type": "markdown",
   "metadata": {
    "slideshow": {
     "slide_type": "slide"
    }
   },
   "source": [
    "# Quicksort Demo\n",
    "Author: Mingzhe Wang  \n",
    "Date: May 7, 2022"
   ]
  },
  {
   "cell_type": "markdown",
   "metadata": {
    "slideshow": {
     "slide_type": "slide"
    }
   },
   "source": [
    "## What is quicksort?   \n",
    "\n",
    "<img src=\"quicksort_animation.gif\">\n",
    "\n",
    "Quicksort is a sorting algorithm based on the divide and conquer approach where\n",
    "* An array is divided into subarrays by selecting a pivot element (element selected from the array).\n",
    "* While dividing the array, the pivot element should be positioned in such a way that elements less than pivot are kept on the left side and elements greater than pivot are on the right side of the pivot. The left and right subarrays are also divided using the same approach. This process continues until each subarray contains a single element.\n",
    "* At this point, elements are already sorted. Finally, elements are combined to form a sorted array."
   ]
  },
  {
   "cell_type": "markdown",
   "metadata": {
    "slideshow": {
     "slide_type": "slide"
    }
   },
   "source": [
    "## How quicksort works?\n",
    "Like most divide and conquer algorithm, the quicksort algorithm works by applying the following three stages:  \n",
    "\n",
    "* **Conquer (What is the simplest case that we can directly solve?)**\n",
    "  \n",
    "  An array of size <= 1 is already sorted, since it only has at most one element. \n",
    "  \n",
    "\n",
    "* **Divide (If the current problem is too complex that we cannot solve directly, then divide it into subproblems and try solving them.)**\n",
    "  \n",
    "  For an array of size larger than 1, we select a pivot (a base element), then divide the array into three parts: [all elements smaller than pivot], [pivot], [all elements greater than pivot]. Then we call quicksort() twice for solving the [all elements smaller than pivot] and [all elements greater than pivot].  \n",
    "  \n",
    "  (Note: there will be multiple ways to deal with cases when the element equal the pivot. In this notebook, we will assume the elements equal to the pivot will be put into the left subarray i.e. [all elements smaller than pivot]).  \n",
    "  \n",
    "  \n",
    "* **Merge (If all the subproblems are solved, we should get the right answer for the whole problem by \"merging\" all subproblems.)**\n",
    "  \n",
    "  Unlike mergesort, in quicksort, if we sort all three divisions (i.e. [all elements smaller than pivot], [pivot], [all elements greater than pivot]) of the whole array, then the whole array is automatically sorted. So NOTHING is needed in this stage."
   ]
  },
  {
   "cell_type": "markdown",
   "metadata": {
    "slideshow": {
     "slide_type": "slide"
    }
   },
   "source": [
    "## Let's try to implement it."
   ]
  },
  {
   "cell_type": "markdown",
   "metadata": {
    "slideshow": {
     "slide_type": "slide"
    }
   },
   "source": [
    "The first procedure we need is the `quicksort()`. It will sort the array `arr` starting from index `lo` to index `hi` in ascending order.   \n",
    "\n",
    "\n",
    "We can abbreviate this function using the following notation.  \n",
    "```\n",
    "quicksort(arr, lo, hi):\n",
    "Input: \n",
    "  arr - the whole array.\n",
    "  lo - the start index of the array part we want to sort.\n",
    "  hi - the end index of the array part we want to sort.\n",
    "Output:  \n",
    "  null\n",
    "Do:  \n",
    "  sort the given array part indexing [lo, hi].\n",
    "```\n",
    "\n",
    "The `quicksort()` procedure will work by following this strategy:  \n",
    "* If it is the conquer case, we sort the array automatically. \n",
    "* Otherwise, divide the current array into three subarrays (i.e. `[all elements less or equal than pivot]`, `[pivot]`, `[all elements greater than pivot]`) by calling the `partition()` procedure, <span style='color:RGB(92,172,238)'>which will return the index of the selected pivot</span>. (i.e. `pi`). Then call `quicksort()` again to sort `[all elements smaller than pivot]` and `[all elements greater than pivot]`.\n",
    "\n",
    "Now let's try to implement it in python.\n"
   ]
  },
  {
   "cell_type": "code",
   "execution_count": 1,
   "metadata": {
    "slideshow": {
     "slide_type": "slide"
    }
   },
   "outputs": [],
   "source": [
    "def quicksort(arr, lo, hi):\n",
    "  # ----- conquer -----\n",
    "  if (lo >= hi):\n",
    "    # if array length <= 1\n",
    "    return\n",
    "\n",
    "  # ----- divide & merge -----\n",
    "  else:\n",
    "    # else array length > 1 \n",
    "    \n",
    "    # 1. Divide the current array into three subarrays \n",
    "    #     (i.e. [all elements less or equal than pivot], [pivot], [all elements greater than pivot]) \n",
    "    #       by calling the partition() procedure, which will return the index of the selected pivot. (i.e. pi). \n",
    "    pi = partition(arr, lo, hi)\n",
    "    \n",
    "    # 2. Then call quicksort() again to sort [all elements smaller than pivot] and [all elements greater than pivot].\n",
    "    quicksort(arr, lo, pi - 1)\n",
    "    quicksort(arr, pi + 1, hi)\n",
    "    "
   ]
  },
  {
   "cell_type": "markdown",
   "metadata": {
    "slideshow": {
     "slide_type": "slide"
    }
   },
   "source": [
    "It's a little amazing, but we really almostly have implemented `quciksort()`. All the task left is the `partition()` procedure.  \n",
    "\n",
    "Recall that the partition procedure will divide the array into three parts: `[all elements less or equal than pivot]`, `[pivot]`, `[all elements greater than pivot]` and then return the index of pivot.\n",
    "\n",
    "Before diving into it, note that there are variable versions of quicksort, whose partition may follow different strategies. For this lecture, we follow these strategies:\n",
    "* Always select the rightmost element as the pivot.\n",
    "* If an element equals pivot, then put it into the left subarray (i.e. `[all elements less or equal than pivot]`).  \n",
    "\n",
    "\n",
    "\n",
    "\n"
   ]
  },
  {
   "cell_type": "markdown",
   "metadata": {
    "slideshow": {
     "slide_type": "slide"
    }
   },
   "source": [
    "\n",
    "Again, we denote the semantic and sytax of the `partition()` procedure using our notation.\n",
    "```\n",
    "partition():\n",
    "Input: \n",
    "  arr - the whole array.\n",
    "  lo - the start index of the array part we want to divide.\n",
    "  hi - the end index of the array part we want to divide.\n",
    "Output:  \n",
    "  the index indicates where we should put our pivot, such that all the elements in the left are smaller than (or equal to) pivot and all the elements in the right are greated than pivot.\n",
    "Do:  \n",
    "  put the pivot in the right place and do necessary swaps to achieve it.\n",
    "```\n",
    "\n",
    "The `partition()` procedure will work by following this strategy: \n",
    "* Initialize a pointer(index) `i`  to `lo-1`.\n",
    "* Use another pointer `j` to loop through the array. (i.e. `j = low to hi - 1`)  \n",
    "    - If we encounter an element $\\leq$ `pivot`, we increment `i` by `1` and then swap it with the element of index `i` (i.e. `arr[i]`).\n",
    "    - Else we encounter an element $>$ `pivot`, then we simply ignore.\n",
    "* After finishing looping the array by `j` (i.e. `j = hi`), swap pivot with the element of index `i+1`. (i.e. `arr(i+1)`).  \n",
    "\n",
    "\n",
    "Now let's try to implement it in python."
   ]
  },
  {
   "cell_type": "code",
   "execution_count": 2,
   "metadata": {
    "slideshow": {
     "slide_type": "slide"
    }
   },
   "outputs": [],
   "source": [
    "def partition(arr, lo, hi):\n",
    "  # the partition() should achieve the following goal:\n",
    "  # 1. Divide the array into three parts: \n",
    "  #      [all elements less or equal than pivot], [pivot], [all elements greater than pivot]\n",
    "  # 2. then return the index of pivot.\n",
    "  \n",
    "  pivot = arr[hi] # since we always choose the rightmost element as the pivot.\n",
    "  i = lo - 1 # the end index of the known [all elements less or equal than pivot].\n",
    "  \n",
    "  # note in python, range(lo, hi) i.e. interval [lo, hi - 1] or [lo, hi) in math.\n",
    "  for j in range(lo, hi):\n",
    "    if (arr[j] <= pivot):\n",
    "      # should put arr[j] into [all elements less or equal than pivot]:\n",
    "      i = i + 1\n",
    "      arr[i], arr[j] = arr[j], arr[i]\n",
    "    # else, do nothing\n",
    "    \n",
    "  # finally, put the pivot into [pivot]\n",
    "  arr[i+1], arr[hi] = arr[hi], arr[i+1]\n",
    "\n",
    "  return i+1\n",
    "  "
   ]
  },
  {
   "cell_type": "markdown",
   "metadata": {
    "slideshow": {
     "slide_type": "slide"
    }
   },
   "source": [
    "We are done! \n",
    "Now let's test it."
   ]
  },
  {
   "cell_type": "code",
   "execution_count": 3,
   "metadata": {
    "slideshow": {
     "slide_type": "slide"
    }
   },
   "outputs": [
    {
     "name": "stdout",
     "output_type": "stream",
     "text": [
      "original array:  [8, 7, 6, 1, 0, 9, 2]\n",
      "sorted array:  [0, 1, 2, 6, 7, 8, 9]\n"
     ]
    }
   ],
   "source": [
    "arr = [8,7,6,1,0,9,2]\n",
    "print(\"original array: \", arr)\n",
    "quicksort(arr, 0, len(arr) - 1)\n",
    "print(\"sorted array: \", arr)"
   ]
  },
  {
   "cell_type": "markdown",
   "metadata": {
    "slideshow": {
     "slide_type": "slide"
    }
   },
   "source": [
    "The array has been sorted correctly!  \n",
    "\n",
    "However, normally we don't want to specify the start and end indexes for an array, we simply want to the algorithm to sort the whole array. (i.e. we want to use quicksort as `quicksort(arr)` instead of `quicksort(arr, 0, len(arr) - 1)`.)  \n",
    "\n",
    "So we may need to **encapsulate** our function. Below we put all the codes together."
   ]
  },
  {
   "cell_type": "code",
   "execution_count": 4,
   "metadata": {
    "slideshow": {
     "slide_type": "slide"
    }
   },
   "outputs": [
    {
     "name": "stdout",
     "output_type": "stream",
     "text": [
      "original array:  [8, 7, 6, 1, 0, 9, 2]\n",
      "sorted array:  [0, 1, 2, 6, 7, 8, 9]\n"
     ]
    }
   ],
   "source": [
    "# encapsulate the function so that we sort the entire array by default.\n",
    "def quicksort(arr):\n",
    "  quicksort_rec(arr, 0, len(arr) - 1)\n",
    "\n",
    "def quicksort_rec(arr, lo, hi):\n",
    "  # ----- conquer -----\n",
    "  if (lo >= hi):\n",
    "    # if array length <= 1\n",
    "    return\n",
    "\n",
    "  # ----- divide & merge -----\n",
    "  else:\n",
    "    # else array length > 1 \n",
    "    \n",
    "    # 1. Divide the current array into three subarrays \n",
    "    #     (i.e. [all elements less or equal than pivot], [pivot], [all elements greater than pivot]) \n",
    "    #       by calling the partition() procedure, which will return the index of the selected pivot. (i.e. pi). \n",
    "    pi = partition(arr, lo, hi)\n",
    "    \n",
    "    # 2. Then call quicksort() again to sort [all elements smaller than pivot] and [all elements greater than pivot].\n",
    "    quicksort_rec(arr, lo, pi - 1)\n",
    "    quicksort_rec(arr, pi + 1, hi)\n",
    "\n",
    "def partition(arr, lo, hi):\n",
    "  # the partition() should achieve the following goal:\n",
    "  # 1. Divide the array into three parts: \n",
    "  #      [all elements less or equal than pivot], [pivot], [all elements greater than pivot]\n",
    "  # 2. then return the index of pivot.\n",
    "  \n",
    "  pivot = arr[hi] # since we always choose the rightmost element as the pivot.\n",
    "  i = lo - 1 # the end index of the known [all elements less or equal than pivot].\n",
    "  \n",
    "  # note in python, range(lo, hi) i.e. interval [lo, hi - 1] or [lo, hi) in math.\n",
    "  for j in range(lo, hi):\n",
    "    if (arr[j] <= pivot):\n",
    "      # should put arr[j] into [all elements less or equal than pivot]:\n",
    "      i = i + 1\n",
    "      arr[i], arr[j] = arr[j], arr[i]\n",
    "    # else, do nothing\n",
    "    \n",
    "  # finally, put the pivot into [pivot]\n",
    "  arr[i+1], arr[hi] = arr[hi], arr[i+1]\n",
    "\n",
    "  return i+1\n",
    "\n",
    "# test part\n",
    "arr = [8,7,6,1,0,9,2]\n",
    "print(\"original array: \", arr)\n",
    "quicksort(arr)\n",
    "print(\"sorted array: \", arr)\n",
    "\n"
   ]
  },
  {
   "cell_type": "markdown",
   "metadata": {
    "slideshow": {
     "slide_type": "slide"
    }
   },
   "source": [
    "Also here is the clear version of our implementation if you find it useful."
   ]
  },
  {
   "cell_type": "code",
   "execution_count": 5,
   "metadata": {
    "slideshow": {
     "slide_type": "slide"
    }
   },
   "outputs": [
    {
     "name": "stdout",
     "output_type": "stream",
     "text": [
      "original array:  [8, 7, 6, 1, 0, 9, 2]\n",
      "sorted array:  [0, 1, 2, 6, 7, 8, 9]\n"
     ]
    }
   ],
   "source": [
    "def quicksort(arr):\n",
    "  quicksort_rec(arr, 0, len(arr) - 1)\n",
    "\n",
    "def quicksort_rec(arr, lo, hi):\n",
    "  if (lo >= hi):\n",
    "    return\n",
    "  \n",
    "  else:\n",
    "    pi = partition(arr, lo, hi)\n",
    "    quicksort_rec(arr, lo, pi - 1)\n",
    "    quicksort_rec(arr, pi + 1, hi)\n",
    "\n",
    "def partition(arr, lo, hi):  \n",
    "  pivot = arr[hi]\n",
    "  i = lo - 1\n",
    "\n",
    "  for j in range(lo, hi):\n",
    "    if (arr[j] <= pivot):\n",
    "      i = i + 1\n",
    "      arr[i], arr[j] = arr[j], arr[i]\n",
    "\n",
    "  arr[i+1], arr[hi] = arr[hi], arr[i+1]\n",
    "\n",
    "  return i+1\n",
    "\n",
    "# test part\n",
    "arr = [8,7,6,1,0,9,2]\n",
    "print(\"original array: \", arr)\n",
    "quicksort(arr)\n",
    "print(\"sorted array: \", arr)\n"
   ]
  },
  {
   "cell_type": "markdown",
   "metadata": {
    "slideshow": {
     "slide_type": "slide"
    }
   },
   "source": [
    "## Case study\n",
    "\n",
    "Still confused? Let's analysis what `partition()` really does in this small case: `[8,7,6,1,0,9,2]`.\n",
    "\n",
    "Recall what `partition()` does using our notation.\n",
    "\n",
    "```\n",
    "partition():\n",
    "Input: \n",
    "  arr - the whole array.\n",
    "  lo - the start index of the array part we want to divide.\n",
    "  hi - the end index of the array part we want to divide.\n",
    "Output:  \n",
    "  the index indicates where we should put our pivot, such that all the elements in the left are smaller than (or equal to) pivot and all the elements in the right are greated than pivot.\n",
    "Do:  \n",
    "  put the pivot in the right place and do necessary swaps to achieve it.\n",
    "```\n",
    "\n",
    "**Instructor note:** \n",
    "* Dry draw this process for the student.\n",
    "* Show how to automatically do this by using debugger in spyder.\n"
   ]
  },
  {
   "cell_type": "markdown",
   "metadata": {
    "slideshow": {
     "slide_type": "slide"
    }
   },
   "source": [
    "## Some observation\n",
    "\n",
    "Through all this procedure, we maintain a pointer `i` such that the part with index `[0, i]` of this array will hold all the elements $\\leq$ the pivot. To achieve this, we use another pointer `j` to loop through the array -- if we encounter an element $\\leq$ the pivot, then we should put it into the the part in index `[0, i]`. This is achieved by first incrementing `i` by 1 and then swap `arr[i]` with `arr[j]`.  \n",
    "\n",
    "After we finish looping all elements, since the part with index `[0, i]` of this array will hold all the elements  ≤  the pivot, we know that the correct index to put pivot is `i+1` such that the array is divided as `[all elements less or equal than pivot]`, `[pivot]`, `[all elements greater than pivot]`.\n",
    "\n"
   ]
  },
  {
   "cell_type": "markdown",
   "metadata": {
    "slideshow": {
     "slide_type": "slide"
    }
   },
   "source": [
    "## The big picture\n",
    "The following picture shows how `quicksort()` works for `[8,7,6,1,0,9,2]`. Take a look at it, if you feel it's helpful.\n",
    "\n",
    "<img src=\"quicksort_example.jpg\">"
   ]
  },
  {
   "cell_type": "markdown",
   "metadata": {
    "slideshow": {
     "slide_type": "slide"
    }
   },
   "source": [
    "## Time complexity analysis\n",
    "\n",
    "### A deep analysis of worst case\n",
    "\n",
    "Instructor note: show quicksort.py in vscode.\n",
    "\n",
    "Let's take a look at the whole implementation.   \n",
    "`quicksort()` is just an encapsulated function, it's complexity equals `quicksort_rec(arr, 0, len(arr) - 1)`.\n",
    "\n",
    "`quicksort_rec()` calls `partition()`, `quicksort_rec()` on its left subarray, and `quicksort_rec()` on its right subarray.\n",
    "\n",
    "`partition()` takes $O(n)$ time as it loops through the whole array once.\n",
    "\n",
    "So, if we denote the time complexity of `quicksort()` as $T(n)$, where $n$ is the length of the original array, we can write:  \n",
    "\n",
    "$T(n) = O(n) + T(m) + T(n - 1 - m)$  \n",
    "$T(1) = O(1)$  \n",
    "$T(0) = 0$  \n",
    ", where m is the length of left subarray (i.e. `[all elements smaller than pivot]`).  \n",
    "\n",
    "Consider the cases where the array is alreay sorted ascendingly (e.g. `[1,2,3,4,5]`). As we know, the array will be divided into three parts: `[all elements less or equal than pivot]`, `[pivot]`, `[all elements greater than pivot]` in the `partition()` part. In this specific case, the above three parts are equavalent to `[all elements less or equal than pivot]`, `[pivot]`, `[]`. Then the above recursion can be simplified to:  \n",
    "\n",
    "$T(n) = O(n) + T(n-1) + T(0)$   \n",
    "$T(0) = 0$ \n",
    "\n",
    "which gives us **$T(n) = O(n^2)$**.\n",
    "\n",
    "Similiarly, this will also happen when the array is already sorted disacendingly."
   ]
  },
  {
   "cell_type": "markdown",
   "metadata": {
    "slideshow": {
     "slide_type": "slide"
    }
   },
   "source": [
    "### Summary\n",
    "**Worst Case Complexity: $O(n^2)$**  \n",
    "\n",
    "It occurs when the array is already sorted, either ascendingly or disacendingly. (Note that if an array consists of the same elements, then it is sorted ascendingly and disacendingly).\n",
    "\n",
    "**Best Case Complexity: $\\Omega(nlog(n))$**  \n",
    "\n",
    "It occurs when the pivot element is always the middle element or near to the middle element.  \n",
    "\n",
    "We can show this by solving  \n",
    "\n",
    "$T(n) = O(n) + T(\\lfloor(n - 1)/2\\rfloor) + T(\\lceil(n - 1)/2\\rceil)$  \n",
    "$T(0) = 0$.\n",
    "\n",
    "**Average Case Complexity: $\\Theta(nlog(n)$**  \n",
    "\n",
    "It occurs when the above conditions do not occur."
   ]
  },
  {
   "cell_type": "markdown",
   "metadata": {
    "slideshow": {
     "slide_type": "slide"
    }
   },
   "source": [
    "### Comparison with bubble sort\n",
    "\n",
    "We already know in the worst case, `bubblesort()` takes $O(n^2)$ time.\n",
    "\n",
    "While the in the worst case, `quicksort()` also takes $O(n^2)$ time. However, in the practice, this case (i.e. the array is already sorted, either ascendingly or disacendingly) occurs seldomly. And also if we want, we can use some optimizations to avoid this case like always shuffling the array randomly or check if the array is already sorted in $O(n)$ time before we call $quicksort()$. \n",
    "\n",
    "Therefore, the actual complexity for `quicksort()` should be amortized $O(nlogn)$, (*amortized* means we ignore some cases that seldomly occur), which means it's much more efficient than `bubblesort()`.\n",
    "\n",
    "In a whole, `quicksort()` is a commonly used algorithm for sorting. When implemented well, it can be somewhat faster than merge sort and about two or three times faster than heapsort.[4]"
   ]
  },
  {
   "cell_type": "markdown",
   "metadata": {
    "slideshow": {
     "slide_type": "slide"
    }
   },
   "source": [
    "## Recursion and memory management\n",
    "\n"
   ]
  },
  {
   "cell_type": "markdown",
   "metadata": {
    "slideshow": {
     "slide_type": "slide"
    }
   },
   "source": [
    "### Memory allocation [6]\n",
    "When a function is called, its memory is allocated on a stack. Stacks in computing architectures are the regions of memory where data is added or removed in a last-in-first-out (LIFO) process. Each program has a reserved region of memory referred to as its stack. When a function executes, it adds its state data to the top of the stack. When the function exits, this data is removed from the stack.\n",
    "\n",
    "Suppose we have a program as follows:"
   ]
  },
  {
   "cell_type": "code",
   "execution_count": 6,
   "metadata": {
    "slideshow": {
     "slide_type": "slide"
    }
   },
   "outputs": [
    {
     "ename": "SyntaxError",
     "evalue": "invalid syntax (1382747128.py, line 3)",
     "output_type": "error",
     "traceback": [
      "\u001b[0;36m  File \u001b[0;32m\"/var/folders/g2/w_qpf1x56msbyvw_fh9ptn5h0000gn/T/ipykernel_12202/1382747128.py\"\u001b[0;36m, line \u001b[0;32m3\u001b[0m\n\u001b[0;31m    def function1(<parameters>) :\u001b[0m\n\u001b[0m                  ^\u001b[0m\n\u001b[0;31mSyntaxError\u001b[0m\u001b[0;31m:\u001b[0m invalid syntax\n"
     ]
    }
   ],
   "source": [
    "# this is juts an example code, please don't run it.\n",
    "\n",
    "def function1(<parameters>) :\n",
    "  <create some variables>\n",
    "  return(<some data>)\n",
    "\n",
    "def function2(<parameters>) :\n",
    "  <create some variables>\n",
    "  return(<some data>)\n",
    "\n",
    "## Driver Code\n",
    "function1()\n",
    "function2()"
   ]
  },
  {
   "cell_type": "markdown",
   "metadata": {
    "slideshow": {
     "slide_type": "slide"
    }
   },
   "source": [
    "We have created some dummy example and called them in our program. Our memory stack will now look like this:  \n",
    "\n",
    "<img src=\"stack_visualization.png\">"
   ]
  },
  {
   "cell_type": "markdown",
   "metadata": {
    "slideshow": {
     "slide_type": "slide"
    }
   },
   "source": [
    "### Memory allocation in recursion\n",
    "We use recursion in our implementation. A recursion function is simply a function that calls itself in its body.  \n",
    "\n",
    "To analysis recursion functions, a recursion tree is useful for visualizing what happens when a recurrence is iterated. It diagrams the tree of recursive calls and the amount of work done at each call.  \n",
    "\n",
    "Let's consider the same example -- `quciksort([8,7,6,1,0,9,2])`. Below is the recursion tree, which visualizes the recursive calls during the program execution. (Note that an arrow like `A -> B` means procedure `A` calls procedure `B` in its body.)\n",
    "\n",
    "<img src=\"recursion_tree.png\">"
   ]
  },
  {
   "cell_type": "markdown",
   "metadata": {
    "slideshow": {
     "slide_type": "slide"
    }
   },
   "source": [
    "We can visualize the calling stack by following this strategy:\n",
    "\n",
    "If a function is called, we push it into the stack (i.e. add it on the top of the stack).\n",
    "If a function finishes its execution, we pop it from the stack (i.e. remove the first block from the top of the stack).\n",
    "\n",
    "Then we should have the following stack trace (from left to right, each blocks represents a snapshot of the system stack)."
   ]
  },
  {
   "cell_type": "code",
   "execution_count": 7,
   "metadata": {
    "slideshow": {
     "slide_type": "slide"
    }
   },
   "outputs": [
    {
     "data": {
      "text/html": [
       "<div>\n",
       "<style scoped>\n",
       "    .dataframe tbody tr th:only-of-type {\n",
       "        vertical-align: middle;\n",
       "    }\n",
       "\n",
       "    .dataframe tbody tr th {\n",
       "        vertical-align: top;\n",
       "    }\n",
       "\n",
       "    .dataframe thead th {\n",
       "        text-align: right;\n",
       "    }\n",
       "</style>\n",
       "<table border=\"1\" class=\"dataframe\">\n",
       "  <thead>\n",
       "    <tr style=\"text-align: right;\">\n",
       "      <th></th>\n",
       "      <th>t0</th>\n",
       "      <th>t1</th>\n",
       "      <th>t2</th>\n",
       "      <th>t3</th>\n",
       "      <th>t4</th>\n",
       "      <th>t5</th>\n",
       "      <th>t6</th>\n",
       "      <th>t7</th>\n",
       "      <th>t8</th>\n",
       "      <th>t9</th>\n",
       "      <th>t10</th>\n",
       "      <th>t11</th>\n",
       "      <th>t12</th>\n",
       "      <th>t13</th>\n",
       "      <th>t14</th>\n",
       "      <th>t15</th>\n",
       "      <th>t16</th>\n",
       "      <th>t17</th>\n",
       "      <th>t18</th>\n",
       "    </tr>\n",
       "  </thead>\n",
       "  <tbody>\n",
       "    <tr>\n",
       "      <th>0</th>\n",
       "      <td>NaN</td>\n",
       "      <td>NaN</td>\n",
       "      <td>NaN</td>\n",
       "      <td>NaN</td>\n",
       "      <td>NaN</td>\n",
       "      <td>NaN</td>\n",
       "      <td>NaN</td>\n",
       "      <td>NaN</td>\n",
       "      <td>NaN</td>\n",
       "      <td>NaN</td>\n",
       "      <td>NaN</td>\n",
       "      <td>NaN</td>\n",
       "      <td>quicksort_rec([0,1,2,6,7,8,9], 4, 4)</td>\n",
       "      <td>NaN</td>\n",
       "      <td>quicksort_rec([0,1,2,6,7,8,9], 6, 6)</td>\n",
       "      <td>NaN</td>\n",
       "      <td>NaN</td>\n",
       "      <td>NaN</td>\n",
       "      <td>NaN</td>\n",
       "    </tr>\n",
       "    <tr>\n",
       "      <th>1</th>\n",
       "      <td>NaN</td>\n",
       "      <td>NaN</td>\n",
       "      <td>NaN</td>\n",
       "      <td>quicksort_rec([0,1,2,8,7,9,6], 0, -1)</td>\n",
       "      <td>NaN</td>\n",
       "      <td>quicksort_rec([0,1,2,8,7,9,6], 1, 1)</td>\n",
       "      <td>NaN</td>\n",
       "      <td>NaN</td>\n",
       "      <td>NaN</td>\n",
       "      <td>quicksort_rec([0,1,2,6,7,9,8], 3, 2)</td>\n",
       "      <td>NaN</td>\n",
       "      <td>quicksort_rec([0,1,2,6,7,9,8], 4, 6)</td>\n",
       "      <td>quicksort_rec([0,1,2,6,7,9,8], 4, 6)</td>\n",
       "      <td>quicksort_rec([0,1,2,6,7,9,8], 4, 6)</td>\n",
       "      <td>quicksort_rec([0,1,2,6,7,9,8], 4, 6)</td>\n",
       "      <td>quicksort_rec([0,1,2,6,7,9,8], 4, 6)</td>\n",
       "      <td>NaN</td>\n",
       "      <td>NaN</td>\n",
       "      <td>NaN</td>\n",
       "    </tr>\n",
       "    <tr>\n",
       "      <th>2</th>\n",
       "      <td>NaN</td>\n",
       "      <td>NaN</td>\n",
       "      <td>quicksort_rec([1,0,2,8,7,9,6], 0, 1)</td>\n",
       "      <td>quicksort_rec([1,0,2,8,7,9,6], 0, 1)</td>\n",
       "      <td>quicksort_rec([1,0,2,8,7,9,6], 0, 1)</td>\n",
       "      <td>quicksort_rec([1,0,2,8,7,9,6], 0, 1)</td>\n",
       "      <td>quicksort_rec([1,0,2,8,7,9,6], 0, 1)</td>\n",
       "      <td>NaN</td>\n",
       "      <td>quicksort_rec([0,1,2,8,7,9,6], 3, 6)</td>\n",
       "      <td>quicksort_rec([0,1,2,8,7,9,6], 3, 6)</td>\n",
       "      <td>quicksort_rec([0,1,2,8,7,9,6], 3, 6)</td>\n",
       "      <td>quicksort_rec([0,1,2,8,7,9,6], 3, 6)</td>\n",
       "      <td>quicksort_rec([0,1,2,8,7,9,6], 3, 6)</td>\n",
       "      <td>quicksort_rec([0,1,2,8,7,9,6], 3, 6)</td>\n",
       "      <td>quicksort_rec([0,1,2,8,7,9,6], 3, 6)</td>\n",
       "      <td>quicksort_rec([0,1,2,8,7,9,6], 3, 6)</td>\n",
       "      <td>quicksort_rec([0,1,2,8,7,9,6], 3, 6)</td>\n",
       "      <td>NaN</td>\n",
       "      <td>NaN</td>\n",
       "    </tr>\n",
       "    <tr>\n",
       "      <th>3</th>\n",
       "      <td>start</td>\n",
       "      <td>quicksort_rec([8,7,6,1,0,9,2], 0, 6)</td>\n",
       "      <td>quicksort_rec([8,7,6,1,0,9,2], 0, 6)</td>\n",
       "      <td>quicksort_rec([8,7,6,1,0,9,2], 0, 6)</td>\n",
       "      <td>quicksort_rec([8,7,6,1,0,9,2], 0, 6)</td>\n",
       "      <td>quicksort_rec([8,7,6,1,0,9,2], 0, 6)</td>\n",
       "      <td>quicksort_rec([8,7,6,1,0,9,2], 0, 6)</td>\n",
       "      <td>quicksort_rec([8,7,6,1,0,9,2], 0, 6)</td>\n",
       "      <td>quicksort_rec([8,7,6,1,0,9,2], 0, 6)</td>\n",
       "      <td>quicksort_rec([8,7,6,1,0,9,2], 0, 6)</td>\n",
       "      <td>quicksort_rec([8,7,6,1,0,9,2], 0, 6)</td>\n",
       "      <td>quicksort_rec([8,7,6,1,0,9,2], 0, 6)</td>\n",
       "      <td>quicksort_rec([8,7,6,1,0,9,2], 0, 6)</td>\n",
       "      <td>quicksort_rec([8,7,6,1,0,9,2], 0, 6)</td>\n",
       "      <td>quicksort_rec([8,7,6,1,0,9,2], 0, 6)</td>\n",
       "      <td>quicksort_rec([8,7,6,1,0,9,2], 0, 6)</td>\n",
       "      <td>quicksort_rec([8,7,6,1,0,9,2], 0, 6)</td>\n",
       "      <td>quicksort_rec([8,7,6,1,0,9,2], 0, 6)</td>\n",
       "      <td>done</td>\n",
       "    </tr>\n",
       "  </tbody>\n",
       "</table>\n",
       "</div>"
      ],
      "text/plain": [
       "      t0                                    t1  \\\n",
       "0    NaN                                   NaN   \n",
       "1    NaN                                   NaN   \n",
       "2    NaN                                   NaN   \n",
       "3  start  quicksort_rec([8,7,6,1,0,9,2], 0, 6)   \n",
       "\n",
       "                                     t2  \\\n",
       "0                                   NaN   \n",
       "1                                   NaN   \n",
       "2  quicksort_rec([1,0,2,8,7,9,6], 0, 1)   \n",
       "3  quicksort_rec([8,7,6,1,0,9,2], 0, 6)   \n",
       "\n",
       "                                      t3  \\\n",
       "0                                    NaN   \n",
       "1  quicksort_rec([0,1,2,8,7,9,6], 0, -1)   \n",
       "2   quicksort_rec([1,0,2,8,7,9,6], 0, 1)   \n",
       "3   quicksort_rec([8,7,6,1,0,9,2], 0, 6)   \n",
       "\n",
       "                                     t4                                    t5  \\\n",
       "0                                   NaN                                   NaN   \n",
       "1                                   NaN  quicksort_rec([0,1,2,8,7,9,6], 1, 1)   \n",
       "2  quicksort_rec([1,0,2,8,7,9,6], 0, 1)  quicksort_rec([1,0,2,8,7,9,6], 0, 1)   \n",
       "3  quicksort_rec([8,7,6,1,0,9,2], 0, 6)  quicksort_rec([8,7,6,1,0,9,2], 0, 6)   \n",
       "\n",
       "                                     t6                                    t7  \\\n",
       "0                                   NaN                                   NaN   \n",
       "1                                   NaN                                   NaN   \n",
       "2  quicksort_rec([1,0,2,8,7,9,6], 0, 1)                                   NaN   \n",
       "3  quicksort_rec([8,7,6,1,0,9,2], 0, 6)  quicksort_rec([8,7,6,1,0,9,2], 0, 6)   \n",
       "\n",
       "                                     t8                                    t9  \\\n",
       "0                                   NaN                                   NaN   \n",
       "1                                   NaN  quicksort_rec([0,1,2,6,7,9,8], 3, 2)   \n",
       "2  quicksort_rec([0,1,2,8,7,9,6], 3, 6)  quicksort_rec([0,1,2,8,7,9,6], 3, 6)   \n",
       "3  quicksort_rec([8,7,6,1,0,9,2], 0, 6)  quicksort_rec([8,7,6,1,0,9,2], 0, 6)   \n",
       "\n",
       "                                    t10                                   t11  \\\n",
       "0                                   NaN                                   NaN   \n",
       "1                                   NaN  quicksort_rec([0,1,2,6,7,9,8], 4, 6)   \n",
       "2  quicksort_rec([0,1,2,8,7,9,6], 3, 6)  quicksort_rec([0,1,2,8,7,9,6], 3, 6)   \n",
       "3  quicksort_rec([8,7,6,1,0,9,2], 0, 6)  quicksort_rec([8,7,6,1,0,9,2], 0, 6)   \n",
       "\n",
       "                                    t12                                   t13  \\\n",
       "0  quicksort_rec([0,1,2,6,7,8,9], 4, 4)                                   NaN   \n",
       "1  quicksort_rec([0,1,2,6,7,9,8], 4, 6)  quicksort_rec([0,1,2,6,7,9,8], 4, 6)   \n",
       "2  quicksort_rec([0,1,2,8,7,9,6], 3, 6)  quicksort_rec([0,1,2,8,7,9,6], 3, 6)   \n",
       "3  quicksort_rec([8,7,6,1,0,9,2], 0, 6)  quicksort_rec([8,7,6,1,0,9,2], 0, 6)   \n",
       "\n",
       "                                    t14                                   t15  \\\n",
       "0  quicksort_rec([0,1,2,6,7,8,9], 6, 6)                                   NaN   \n",
       "1  quicksort_rec([0,1,2,6,7,9,8], 4, 6)  quicksort_rec([0,1,2,6,7,9,8], 4, 6)   \n",
       "2  quicksort_rec([0,1,2,8,7,9,6], 3, 6)  quicksort_rec([0,1,2,8,7,9,6], 3, 6)   \n",
       "3  quicksort_rec([8,7,6,1,0,9,2], 0, 6)  quicksort_rec([8,7,6,1,0,9,2], 0, 6)   \n",
       "\n",
       "                                    t16                                   t17  \\\n",
       "0                                   NaN                                   NaN   \n",
       "1                                   NaN                                   NaN   \n",
       "2  quicksort_rec([0,1,2,8,7,9,6], 3, 6)                                   NaN   \n",
       "3  quicksort_rec([8,7,6,1,0,9,2], 0, 6)  quicksort_rec([8,7,6,1,0,9,2], 0, 6)   \n",
       "\n",
       "    t18  \n",
       "0   NaN  \n",
       "1   NaN  \n",
       "2   NaN  \n",
       "3  done  "
      ]
     },
     "execution_count": 7,
     "metadata": {},
     "output_type": "execute_result"
    }
   ],
   "source": [
    "import pandas as pd\n",
    "\n",
    "df = pd.read_excel (r'stack_trace.xlsx', sheet_name='Sheet1')\n",
    "df.head(10)"
   ]
  },
  {
   "cell_type": "markdown",
   "metadata": {
    "slideshow": {
     "slide_type": "slide"
    }
   },
   "source": [
    "Some students may be familiar with the DFS or pre-order traversal of the tree data structure. You may find the result of our stack tracing is exactly the same thing as we DFS or pre-order traversal on the recursion tree we have constructed above, as showed below. (The <span style='color:RGB(92,172,238)'>blue</span> arrow represents `push`, the <span style='color:\tRGB(255,99,71)'>red</span> arrow represents `pop`, and the number represents the order we traverse the tree.)\n",
    "\n",
    "<img src=\"recursion_tree _traversal.png\">"
   ]
  },
  {
   "cell_type": "markdown",
   "metadata": {
    "slideshow": {
     "slide_type": "slide"
    }
   },
   "source": [
    "## Exercise\n",
    "1. Instead always selecting the last element as the pivot, implement a `partition()` function which **always selects the first element as the pivot**.\n",
    "\n",
    "2. **Optimiztion by Robert Sedgewick**: Sedgewick's implementation uses a different pointer strategy to compare elements and then detect the right place to put the pivot. Self-learn this strategy by reading the following website:  \n",
    "https://algs4.cs.princeton.edu/23quicksort/"
   ]
  },
  {
   "cell_type": "markdown",
   "metadata": {
    "slideshow": {
     "slide_type": "slide"
    }
   },
   "source": [
    "## Appendix\n",
    "### Environment Set up\n",
    "Spyder, Jupyter Notebook, Python, VScode.  \n",
    "Note: All tools can be accessed by simply installing Anaconda and use a common environment.\n",
    "### Fix jupyter notebook indentation (if you see red color in your code)\n",
    "By following the first answer of this thread.  \n",
    "https://stackoverflow.com/questions/19068730/how-do-i-change-the-autoindent-to-2-space-in-ipython-notebook\n",
    "### Reference\n",
    "[1] https://www.programiz.com/dsa/quick-sort  \n",
    "[2] https://visualgo.net/en  \n",
    "[3] https://www.tutorialspoint.com/data_structures_algorithms/quick_sort_algorithm.htm  \n",
    "[4] https://en.wikipedia.org/wiki/Quicksort  \n",
    "[5] https://algs4.cs.princeton.edu/23quicksort/  \n",
    "[6] https://www.educative.io/courses/recursion-for-coding-interviews-in-python/B8wMXy0nmvk"
   ]
  }
 ],
 "metadata": {
  "celltoolbar": "Slideshow",
  "interpreter": {
   "hash": "01547c21ad8e3418e9cc232ff9a047eae177cfdced01dcd1331cad5b15111bb9"
  },
  "kernelspec": {
   "display_name": "Python 3 (ipykernel)",
   "language": "python",
   "name": "python3"
  },
  "language_info": {
   "codemirror_mode": {
    "name": "ipython",
    "version": 3
   },
   "file_extension": ".py",
   "mimetype": "text/x-python",
   "name": "python",
   "nbconvert_exporter": "python",
   "pygments_lexer": "ipython3",
   "version": "3.9.7"
  }
 },
 "nbformat": 4,
 "nbformat_minor": 4
}
